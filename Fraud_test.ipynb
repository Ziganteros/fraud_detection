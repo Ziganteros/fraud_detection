{
 "cells": [
  {
   "cell_type": "markdown",
   "metadata": {
    "run_control": {
     "marked": true
    }
   },
   "source": [
    "# Fraud Detection"
   ]
  },
  {
   "cell_type": "markdown",
   "metadata": {},
   "source": [
    "### Main objective\n",
    "\n",
    "Vehicle insurance fraud involves conspiring to make false or exaggerated claims involving property damage or personal injuries following an accident.\n",
    "\n",
    "Main objective of this study is to build a model that can detect this type of fraud.\n",
    "As first move I'll build a random forest as benchmarch for performance then I'll use the Keras package to build and train a neural network. At last I'll do some parameter tuning to find the best result for fraud detection.\n",
    "\n",
    "I took the data on kaggle searching for \"vehicle claim fraud detection\".\n"
   ]
  },
  {
   "cell_type": "code",
   "execution_count": 1,
   "metadata": {},
   "outputs": [],
   "source": [
    "#Setup\n",
    "import warnings\n",
    "warnings.filterwarnings(\"ignore\")\n",
    "import numpy as np\n",
    "import pandas as pd\n",
    "import matplotlib.pyplot as plt\n",
    "import seaborn as sns\n",
    "from sklearn.model_selection import StratifiedShuffleSplit, train_test_split\n",
    "from sklearn.preprocessing import StandardScaler, LabelEncoder\n",
    "from sklearn.metrics import confusion_matrix, precision_recall_curve, roc_auc_score, roc_curve, accuracy_score\n",
    "from sklearn.ensemble import RandomForestClassifier\n",
    "from imblearn.over_sampling import RandomOverSampler"
   ]
  },
  {
   "cell_type": "code",
   "execution_count": 2,
   "metadata": {},
   "outputs": [
    {
     "name": "stderr",
     "output_type": "stream",
     "text": [
      "2023-03-06 18:09:25.293901: W tensorflow/stream_executor/platform/default/dso_loader.cc:64] Could not load dynamic library 'libcudart.so.11.0'; dlerror: libcudart.so.11.0: cannot open shared object file: No such file or directory\n",
      "2023-03-06 18:09:25.293995: I tensorflow/stream_executor/cuda/cudart_stub.cc:29] Ignore above cudart dlerror if you do not have a GPU set up on your machine.\n"
     ]
    }
   ],
   "source": [
    "## Import Keras objects for Deep Learning\n",
    "from tensorflow.keras.models  import Sequential\n",
    "from tensorflow.keras.layers import Input, Dense, Flatten, Dropout, BatchNormalization\n",
    "from tensorflow.keras.optimizers import Adam, SGD, RMSprop"
   ]
  },
  {
   "cell_type": "markdown",
   "metadata": {},
   "source": [
    "### Data import and exploration"
   ]
  },
  {
   "cell_type": "code",
   "execution_count": 3,
   "metadata": {},
   "outputs": [
    {
     "name": "stdout",
     "output_type": "stream",
     "text": [
      "(15420, 33)\n"
     ]
    },
    {
     "data": {
      "text/html": [
       "<div>\n",
       "<style scoped>\n",
       "    .dataframe tbody tr th:only-of-type {\n",
       "        vertical-align: middle;\n",
       "    }\n",
       "\n",
       "    .dataframe tbody tr th {\n",
       "        vertical-align: top;\n",
       "    }\n",
       "\n",
       "    .dataframe thead th {\n",
       "        text-align: right;\n",
       "    }\n",
       "</style>\n",
       "<table border=\"1\" class=\"dataframe\">\n",
       "  <thead>\n",
       "    <tr style=\"text-align: right;\">\n",
       "      <th></th>\n",
       "      <th>Month</th>\n",
       "      <th>WeekOfMonth</th>\n",
       "      <th>DayOfWeek</th>\n",
       "      <th>Make</th>\n",
       "      <th>AccidentArea</th>\n",
       "      <th>DayOfWeekClaimed</th>\n",
       "      <th>MonthClaimed</th>\n",
       "      <th>WeekOfMonthClaimed</th>\n",
       "      <th>Sex</th>\n",
       "      <th>MaritalStatus</th>\n",
       "      <th>...</th>\n",
       "      <th>AgeOfVehicle</th>\n",
       "      <th>AgeOfPolicyHolder</th>\n",
       "      <th>PoliceReportFiled</th>\n",
       "      <th>WitnessPresent</th>\n",
       "      <th>AgentType</th>\n",
       "      <th>NumberOfSuppliments</th>\n",
       "      <th>AddressChange_Claim</th>\n",
       "      <th>NumberOfCars</th>\n",
       "      <th>Year</th>\n",
       "      <th>BasePolicy</th>\n",
       "    </tr>\n",
       "  </thead>\n",
       "  <tbody>\n",
       "    <tr>\n",
       "      <th>9872</th>\n",
       "      <td>Feb</td>\n",
       "      <td>1</td>\n",
       "      <td>Sunday</td>\n",
       "      <td>Mazda</td>\n",
       "      <td>Urban</td>\n",
       "      <td>Monday</td>\n",
       "      <td>Feb</td>\n",
       "      <td>1</td>\n",
       "      <td>Male</td>\n",
       "      <td>Married</td>\n",
       "      <td>...</td>\n",
       "      <td>7 years</td>\n",
       "      <td>31 to 35</td>\n",
       "      <td>No</td>\n",
       "      <td>No</td>\n",
       "      <td>External</td>\n",
       "      <td>1 to 2</td>\n",
       "      <td>no change</td>\n",
       "      <td>1 vehicle</td>\n",
       "      <td>1995</td>\n",
       "      <td>Collision</td>\n",
       "    </tr>\n",
       "    <tr>\n",
       "      <th>2973</th>\n",
       "      <td>Apr</td>\n",
       "      <td>3</td>\n",
       "      <td>Monday</td>\n",
       "      <td>Honda</td>\n",
       "      <td>Urban</td>\n",
       "      <td>Wednesday</td>\n",
       "      <td>May</td>\n",
       "      <td>2</td>\n",
       "      <td>Male</td>\n",
       "      <td>Married</td>\n",
       "      <td>...</td>\n",
       "      <td>6 years</td>\n",
       "      <td>31 to 35</td>\n",
       "      <td>No</td>\n",
       "      <td>No</td>\n",
       "      <td>External</td>\n",
       "      <td>none</td>\n",
       "      <td>no change</td>\n",
       "      <td>1 vehicle</td>\n",
       "      <td>1994</td>\n",
       "      <td>Collision</td>\n",
       "    </tr>\n",
       "    <tr>\n",
       "      <th>8317</th>\n",
       "      <td>Aug</td>\n",
       "      <td>1</td>\n",
       "      <td>Monday</td>\n",
       "      <td>Pontiac</td>\n",
       "      <td>Urban</td>\n",
       "      <td>Friday</td>\n",
       "      <td>Aug</td>\n",
       "      <td>2</td>\n",
       "      <td>Male</td>\n",
       "      <td>Single</td>\n",
       "      <td>...</td>\n",
       "      <td>7 years</td>\n",
       "      <td>31 to 35</td>\n",
       "      <td>No</td>\n",
       "      <td>No</td>\n",
       "      <td>External</td>\n",
       "      <td>more than 5</td>\n",
       "      <td>no change</td>\n",
       "      <td>1 vehicle</td>\n",
       "      <td>1995</td>\n",
       "      <td>Liability</td>\n",
       "    </tr>\n",
       "    <tr>\n",
       "      <th>8918</th>\n",
       "      <td>Mar</td>\n",
       "      <td>2</td>\n",
       "      <td>Saturday</td>\n",
       "      <td>Pontiac</td>\n",
       "      <td>Urban</td>\n",
       "      <td>Friday</td>\n",
       "      <td>Mar</td>\n",
       "      <td>3</td>\n",
       "      <td>Male</td>\n",
       "      <td>Married</td>\n",
       "      <td>...</td>\n",
       "      <td>6 years</td>\n",
       "      <td>31 to 35</td>\n",
       "      <td>No</td>\n",
       "      <td>No</td>\n",
       "      <td>External</td>\n",
       "      <td>none</td>\n",
       "      <td>1 year</td>\n",
       "      <td>1 vehicle</td>\n",
       "      <td>1995</td>\n",
       "      <td>Collision</td>\n",
       "    </tr>\n",
       "    <tr>\n",
       "      <th>6462</th>\n",
       "      <td>Apr</td>\n",
       "      <td>3</td>\n",
       "      <td>Saturday</td>\n",
       "      <td>Chevrolet</td>\n",
       "      <td>Urban</td>\n",
       "      <td>Tuesday</td>\n",
       "      <td>Apr</td>\n",
       "      <td>4</td>\n",
       "      <td>Male</td>\n",
       "      <td>Single</td>\n",
       "      <td>...</td>\n",
       "      <td>7 years</td>\n",
       "      <td>41 to 50</td>\n",
       "      <td>No</td>\n",
       "      <td>No</td>\n",
       "      <td>External</td>\n",
       "      <td>none</td>\n",
       "      <td>no change</td>\n",
       "      <td>1 vehicle</td>\n",
       "      <td>1995</td>\n",
       "      <td>All Perils</td>\n",
       "    </tr>\n",
       "  </tbody>\n",
       "</table>\n",
       "<p>5 rows × 33 columns</p>\n",
       "</div>"
      ],
      "text/plain": [
       "     Month  WeekOfMonth DayOfWeek       Make AccidentArea DayOfWeekClaimed  \\\n",
       "9872   Feb            1    Sunday      Mazda        Urban           Monday   \n",
       "2973   Apr            3    Monday      Honda        Urban        Wednesday   \n",
       "8317   Aug            1    Monday    Pontiac        Urban           Friday   \n",
       "8918   Mar            2  Saturday    Pontiac        Urban           Friday   \n",
       "6462   Apr            3  Saturday  Chevrolet        Urban          Tuesday   \n",
       "\n",
       "     MonthClaimed  WeekOfMonthClaimed   Sex MaritalStatus  ...  AgeOfVehicle  \\\n",
       "9872          Feb                   1  Male       Married  ...       7 years   \n",
       "2973          May                   2  Male       Married  ...       6 years   \n",
       "8317          Aug                   2  Male        Single  ...       7 years   \n",
       "8918          Mar                   3  Male       Married  ...       6 years   \n",
       "6462          Apr                   4  Male        Single  ...       7 years   \n",
       "\n",
       "     AgeOfPolicyHolder PoliceReportFiled WitnessPresent AgentType  \\\n",
       "9872          31 to 35                No             No  External   \n",
       "2973          31 to 35                No             No  External   \n",
       "8317          31 to 35                No             No  External   \n",
       "8918          31 to 35                No             No  External   \n",
       "6462          41 to 50                No             No  External   \n",
       "\n",
       "      NumberOfSuppliments  AddressChange_Claim  NumberOfCars  Year  BasePolicy  \n",
       "9872               1 to 2            no change     1 vehicle  1995   Collision  \n",
       "2973                 none            no change     1 vehicle  1994   Collision  \n",
       "8317          more than 5            no change     1 vehicle  1995   Liability  \n",
       "8918                 none               1 year     1 vehicle  1995   Collision  \n",
       "6462                 none            no change     1 vehicle  1995  All Perils  \n",
       "\n",
       "[5 rows x 33 columns]"
      ]
     },
     "execution_count": 3,
     "metadata": {},
     "output_type": "execute_result"
    }
   ],
   "source": [
    "## Load in the data set \n",
    "fraud_df = pd.read_csv('data/fraud_oracle.csv')\n",
    "print(fraud_df.shape)\n",
    "fraud_df.sample(5)"
   ]
  },
  {
   "cell_type": "code",
   "execution_count": 4,
   "metadata": {},
   "outputs": [
    {
     "name": "stdout",
     "output_type": "stream",
     "text": [
      "Has dataset some null value?   - False\n",
      "dataset has 15420 rows\n",
      "\n",
      "Here are the first 3 rows of dataset (transposed for easier reading)\n",
      "                                      0                  1                  2\n",
      "Month                               Dec                Jan                Oct\n",
      "WeekOfMonth                           5                  3                  5\n",
      "DayOfWeek                     Wednesday          Wednesday             Friday\n",
      "Make                              Honda              Honda              Honda\n",
      "AccidentArea                      Urban              Urban              Urban\n",
      "DayOfWeekClaimed                Tuesday             Monday           Thursday\n",
      "MonthClaimed                        Jan                Jan                Nov\n",
      "WeekOfMonthClaimed                    1                  4                  2\n",
      "Sex                              Female               Male               Male\n",
      "MaritalStatus                    Single             Single            Married\n",
      "Age                                  21                 34                 47\n",
      "Fault                     Policy Holder      Policy Holder      Policy Holder\n",
      "PolicyType            Sport - Liability  Sport - Collision  Sport - Collision\n",
      "VehicleCategory                   Sport              Sport              Sport\n",
      "VehiclePrice            more than 69000    more than 69000    more than 69000\n",
      "FraudFound_P                          0                  0                  0\n",
      "PolicyNumber                          1                  2                  3\n",
      "RepNumber                            12                 15                  7\n",
      "Deductible                          300                400                400\n",
      "DriverRating                          1                  4                  3\n",
      "Days_Policy_Accident       more than 30       more than 30       more than 30\n",
      "Days_Policy_Claim          more than 30       more than 30       more than 30\n",
      "PastNumberOfClaims                 none               none                  1\n",
      "AgeOfVehicle                    3 years            6 years            7 years\n",
      "AgeOfPolicyHolder              26 to 30           31 to 35           41 to 50\n",
      "PoliceReportFiled                    No                Yes                 No\n",
      "WitnessPresent                       No                 No                 No\n",
      "AgentType                      External           External           External\n",
      "NumberOfSuppliments                none               none               none\n",
      "AddressChange_Claim              1 year          no change          no change\n",
      "NumberOfCars                     3 to 4          1 vehicle          1 vehicle\n",
      "Year                               1994               1994               1994\n",
      "BasePolicy                    Liability          Collision          Collision\n"
     ]
    }
   ],
   "source": [
    "print(f'Has dataset some null value?   - {fraud_df.isnull().values.any()}')\n",
    "fraud_df.drop_duplicates()\n",
    "print(f'dataset has {len(fraud_df)} rows')\n",
    "\n",
    "print('\\nHere are the first 3 rows of dataset (transposed for easier reading)')\n",
    "print(fraud_df.head(3).T)\n"
   ]
  },
  {
   "cell_type": "markdown",
   "metadata": {},
   "source": [
    "\n",
    "There are 15420 rows in dataset and columns contains different types of values (numeric and string).\n",
    "\n",
    "The variable named 'FraudFound_P' is the one I want to predict and it is \"1\" for fraud detected or \"0\" otherwise.\n",
    "\n",
    "Data is pretty well formatted and it’s not need any cleaning operation but some operation needs to be done to know witch of all these variables has greater impact on target variable.\n"
   ]
  },
  {
   "cell_type": "code",
   "execution_count": 5,
   "metadata": {},
   "outputs": [
    {
     "name": "stdout",
     "output_type": "stream",
     "text": [
      "                     corr_to_FraudFound_P\n",
      "variable                                 \n",
      "BasePolicy                          -0.16\n",
      "Fault                               -0.13\n",
      "VehicleCategory                      -0.1\n",
      "PolicyType                          -0.06\n",
      "AddressChange_Claim                 -0.04\n",
      "AccidentArea                        -0.03\n",
      "AgeOfPolicyHolder                   -0.03\n",
      "Age                                 -0.03\n",
      "AgentType                           -0.02\n",
      "PoliceReportFiled                   -0.02\n",
      "AgeOfVehicle                        -0.02\n",
      "Days_Policy_Claim                   -0.02\n",
      "Year                                -0.02\n",
      "PolicyNumber                        -0.02\n",
      "DayOfWeek                           -0.02\n",
      "Make                                -0.02\n",
      "MonthClaimed                        -0.01\n",
      "WeekOfMonth                         -0.01\n",
      "WitnessPresent                      -0.01\n",
      "WeekOfMonthClaimed                  -0.01\n",
      "Month                               -0.01\n",
      "RepNumber                           -0.01\n",
      "MaritalStatus                         0.0\n",
      "DayOfWeekClaimed                     -0.0\n",
      "DriverRating                         0.01\n",
      "NumberOfSuppliments                  0.01\n",
      "NumberOfCars                         0.01\n",
      "Days_Policy_Accident                 0.01\n",
      "PastNumberOfClaims                   0.02\n",
      "Deductible                           0.03\n",
      "Sex                                  0.03\n",
      "VehiclePrice                         0.06\n",
      "FraudFound_P                          1.0\n",
      "                    corr_to_FraudFound_P\n",
      "variable                                \n",
      "FraudFound_P                         1.0\n",
      "BasePolicy                          0.16\n",
      "Fault                               0.13\n",
      "VehicleCategory                      0.1\n",
      "VehiclePrice                        0.06\n",
      "PolicyType                          0.06\n",
      "AddressChange_Claim                 0.04\n",
      "AccidentArea                        0.03\n",
      "AgeOfPolicyHolder                   0.03\n",
      "Age                                 0.03\n",
      "Deductible                          0.03\n",
      "Sex                                 0.03\n",
      "Make                                0.02\n",
      "PastNumberOfClaims                  0.02\n",
      "PolicyNumber                        0.02\n"
     ]
    }
   ],
   "source": [
    "#transforming strings to integer data\n",
    "def transform(column):\n",
    "    label=LabelEncoder().fit_transform(fraud_df[column])\n",
    "    fraud_df.drop(column,axis=1,inplace=True)\n",
    "    fraud_df[column]=label\n",
    "def multi_transform(list):\n",
    "    mt_list=[]\n",
    "    for x in list:\n",
    "        if x not in mt_list:\n",
    "            transform(x)\n",
    "multi_transform(fraud_df.columns.to_list())\n",
    "\n",
    "#calculating the correlation between each variable and fraud\n",
    "def multi_corr(column):\n",
    "    df = pd.DataFrame(columns=['variable', 'corr_to_FraudFound_P'])\n",
    "    corr_list=[]\n",
    "    for x in column:\n",
    "        if x not in corr_list:\n",
    "            c=fraud_df['FraudFound_P'].corr(fraud_df[x],method='pearson',min_periods=1)\n",
    "            df = df.append({'variable': x, 'corr_to_FraudFound_P': round(c,2)},ignore_index=True)\n",
    "    df = df.sort_values(by = ['corr_to_FraudFound_P']).set_index('variable')\n",
    "    print(df)\n",
    "    df.corr_to_FraudFound_P = abs(df.corr_to_FraudFound_P)\n",
    "    print(df.sort_values(by = ['corr_to_FraudFound_P'], ascending=False).head(15))\n",
    "\n",
    "multi_corr(fraud_df.columns.to_list())\n",
    "\n"
   ]
  },
  {
   "cell_type": "markdown",
   "metadata": {},
   "source": [
    "Observing correlation between target and other variables is clear that some of them have a greater impact on fraud detection then the others.\n",
    "To ease a little bit the study I’ll take just the most correlated variables (absolute value). Those are: BasePolicy, VehicleCategory, VehiclePrice, PolicyType, AddressChange_Claim, AccidentArea, AgeOfPolicyHolder, Age, Deductible, Sex.\n",
    "\n",
    "There is no need for further feature engineering.\n"
   ]
  },
  {
   "cell_type": "markdown",
   "metadata": {},
   "source": [
    "### Data preparation - di seguito un tentativo cercare, come si comporta l'amico su kaggle"
   ]
  },
  {
   "cell_type": "code",
   "execution_count": 6,
   "metadata": {},
   "outputs": [
    {
     "name": "stdout",
     "output_type": "stream",
     "text": [
      "Percentage of rows corresponding to detected fraud: 0.06366834517486376\n"
     ]
    }
   ],
   "source": [
    "df = fraud_df[['BasePolicy', 'VehicleCategory', 'VehiclePrice', 'PolicyType',\n",
    "               'AddressChange_Claim', 'AccidentArea', 'AgeOfPolicyHolder',\n",
    "               'Age','Deductible','Sex', 'FraudFound_P']]\n",
    "\n",
    "perc_fraud_detected = len(df[df.FraudFound_P==1])/len(df[df.FraudFound_P==0])\n",
    "print(f'Percentage of rows corresponding to detected fraud: {perc_fraud_detected}')"
   ]
  },
  {
   "cell_type": "code",
   "execution_count": 7,
   "metadata": {},
   "outputs": [],
   "source": [
    "# creating a balanced dataset by under-sempling ...\n",
    "#df_1 = df[df.FraudFound_P == 1]\n",
    "#df_0 = df[df.FraudFound_P == 0].sample(n = len(df_1), random_state = 123)\n",
    "#df = df_1.append(df_0)\n",
    "#X = df.iloc[:, :-1].values\n",
    "#y = df['FraudFound_P'].values\n",
    "\n",
    "# creating a balanced dataset by over-sempling ...\n",
    "X_imbalanced = df.iloc[:, :-1]\n",
    "y_imbalanced = df['FraudFound_P']\n",
    "\n",
    "ros = RandomOverSampler()\n",
    "X_ros, y_ros = ros.fit_resample(X_imbalanced, y_imbalanced)\n",
    "\n",
    "X = X_ros.values\n",
    "y = y_ros.values"
   ]
  },
  {
   "cell_type": "code",
   "execution_count": 8,
   "metadata": {},
   "outputs": [],
   "source": [
    "# Split the data to Train, and Test (75%, 25%)\n",
    "\n",
    "X_train, X_test, y_train, y_test = train_test_split(X, y, test_size=0.25, random_state=123)\n",
    "#X_train, X_test, y_train, y_test = StratifiedShuffleSplit(X, y, test_size=0.25, random_state=11111)"
   ]
  },
  {
   "cell_type": "code",
   "execution_count": 9,
   "metadata": {},
   "outputs": [
    {
     "data": {
      "text/plain": [
       "(0.5, 0.5, 28994)"
      ]
     },
     "execution_count": 9,
     "metadata": {},
     "output_type": "execute_result"
    }
   ],
   "source": [
    "np.mean(y), np.mean(1-y), len(y)"
   ]
  },
  {
   "cell_type": "markdown",
   "metadata": {},
   "source": [
    "Without any balancing operation for dataset, I see that about 6% of rows in this dataset correspond to detected fraud, while 94% do not.  This means I can get an accuracy of 94% without any model - just declaring that nobody does fraud. \n",
    "\n",
    "I created a balanced dataset by taking all the rows corresponding to detected fraud and the same amount of the other rows... but this kind of undersampling didn't works because it lead to wicker accuracy for predictions with neural network. So, I balanced the dataset by over sempling rows corresponding to fraud detected making dataset become 28994 rows.\n",
    "\n",
    "Now I'll build a Random Forest Classifier with 200 trees as a benchmarck for neural network models.\n",
    "I'll calculate the ROC-AUC score to evaluate performance of the model, and also look at the accuracy as well to see if we improved upon the 50% accuracy on this balanced set.\n"
   ]
  },
  {
   "cell_type": "code",
   "execution_count": 10,
   "metadata": {},
   "outputs": [
    {
     "data": {
      "text/plain": [
       "RandomForestClassifier(n_estimators=200)"
      ]
     },
     "execution_count": 10,
     "metadata": {},
     "output_type": "execute_result"
    }
   ],
   "source": [
    "### BEGIN SOLUTION\n",
    "## Train the RF Model\n",
    "rf_model = RandomForestClassifier(n_estimators=200)\n",
    "rf_model.fit(X_train, y_train)"
   ]
  },
  {
   "cell_type": "code",
   "execution_count": 11,
   "metadata": {},
   "outputs": [
    {
     "name": "stdout",
     "output_type": "stream",
     "text": [
      "accuracy is 0.793\n",
      "roc-auc is 0.881\n"
     ]
    }
   ],
   "source": [
    "# Make predictions on the test set - both \"hard\" predictions, and the scores (percent of trees voting yes)\n",
    "y_pred_class_rf = rf_model.predict(X_test)\n",
    "y_pred_prob_rf = rf_model.predict_proba(X_test)\n",
    "\n",
    "\n",
    "print('accuracy is {:.3f}'.format(accuracy_score(y_test,y_pred_class_rf)))\n",
    "print('roc-auc is {:.3f}'.format(roc_auc_score(y_test,y_pred_prob_rf[:,1])))"
   ]
  },
  {
   "cell_type": "code",
   "execution_count": 12,
   "metadata": {},
   "outputs": [
    {
     "data": {
      "image/png": "[encoded data removed]",
      "text/plain": [
       "<Figure size 576x576 with 1 Axes>"
      ]
     },
     "metadata": {
      "needs_background": "light"
     },
     "output_type": "display_data"
    }
   ],
   "source": [
    "def plot_roc(y_test, y_pred, model_name):\n",
    "    fpr, tpr, thr = roc_curve(y_test, y_pred)\n",
    "    fig, ax = plt.subplots(figsize=(8, 8))\n",
    "    ax.plot(fpr, tpr, 'k-')\n",
    "    ax.plot([0, 1], [0, 1], 'k--', linewidth=.5)  # roc curve for random model\n",
    "    ax.grid(True)\n",
    "    ax.set(title='ROC Curve for {} on PIMA diabetes problem'.format(model_name),\n",
    "           xlim=[-0.01, 1.01], ylim=[-0.01, 1.01])\n",
    "plot_roc(y_test, y_pred_prob_rf[:, 1], 'RF')\n",
    "### END SOLUTION"
   ]
  },
  {
   "cell_type": "markdown",
   "metadata": {},
   "source": [
    "Accuracy is not extremly high but way better then 50%, so the random forest is the new benchmark.\n"
   ]
  },
  {
   "cell_type": "markdown",
   "metadata": {},
   "source": [
    "## Neural Networks\n",
    "\n",
    "Now I'll use the Sequential model to build three neural networks with differeent hidden leyers:\n",
    " - single layer with 10 nodes\n",
    " - single layer with 15 nodes\n",
    " - double layer (with 10 nodes for each layer).\n",
    "\n",
    "For any of the models I'll set the input shape to 10 and a final layer with one node and a sigmoid activation will complete the neural networks.\n",
    "\n",
    "But first I need to normalize the data."
   ]
  },
  {
   "cell_type": "code",
   "execution_count": 13,
   "metadata": {},
   "outputs": [],
   "source": [
    "normalizer = StandardScaler()\n",
    "X_train_norm = normalizer.fit_transform(X_train)\n",
    "X_test_norm = normalizer.transform(X_test)"
   ]
  },
  {
   "cell_type": "code",
   "execution_count": 14,
   "metadata": {},
   "outputs": [
    {
     "name": "stderr",
     "output_type": "stream",
     "text": [
      "2023-03-06 18:09:43.511017: W tensorflow/stream_executor/platform/default/dso_loader.cc:64] Could not load dynamic library 'libcuda.so.1'; dlerror: libcuda.so.1: cannot open shared object file: No such file or directory\n",
      "2023-03-06 18:09:43.511141: W tensorflow/stream_executor/cuda/cuda_driver.cc:269] failed call to cuInit: UNKNOWN ERROR (303)\n",
      "2023-03-06 18:09:43.511204: I tensorflow/stream_executor/cuda/cuda_diagnostics.cc:156] kernel driver does not appear to be running on this host (eros-HP-Notebook): /proc/driver/nvidia/version does not exist\n"
     ]
    }
   ],
   "source": [
    "# Define the Models \n",
    "\n",
    "# first model: 10-dimensional input + 1 hidden layer (10 nodes, sigmoid activation)\n",
    "model_1 = Sequential()\n",
    "model_1.add(Dense(10,input_shape = (10,),activation = 'sigmoid'))\n",
    "model_1.add(Dense(1,activation='sigmoid'))\n",
    "\n",
    "# second model: 10-dimensional input + 1 hidden layer (15 nodes, relu activation)\n",
    "model_2 = Sequential()\n",
    "model_2.add(Dense(15,input_shape = (10,),activation = 'relu'))\n",
    "model_2.add(Dense(1,activation='sigmoid'))\n",
    "\n",
    "# third model: 10-dimensional input + first hidden layer (10 nodes, sigmoid activation)\n",
    "# + second hidden layer (10 nodes, relu activation)\n",
    "model_3 = Sequential()\n",
    "model_3.add(Dense(10,input_shape = (10,),activation = 'sigmoid'))\n",
    "model_3.add(Dense(10,input_shape = (10,),activation = 'relu'))\n",
    "model_3.add(Dense(1,activation='sigmoid'))"
   ]
  },
  {
   "cell_type": "markdown",
   "metadata": {
    "tags": []
   },
   "source": [
    "### Model 1 - one hidden layer with sigmoid activation function"
   ]
  },
  {
   "cell_type": "code",
   "execution_count": 15,
   "metadata": {},
   "outputs": [
    {
     "name": "stdout",
     "output_type": "stream",
     "text": [
      "Model: \"sequential\"\n",
      "_________________________________________________________________\n",
      " Layer (type)                Output Shape              Param #   \n",
      "=================================================================\n",
      " dense (Dense)               (None, 10)                110       \n",
      "                                                                 \n",
      " dense_1 (Dense)             (None, 1)                 11        \n",
      "                                                                 \n",
      "=================================================================\n",
      "Total params: 121\n",
      "Trainable params: 121\n",
      "Non-trainable params: 0\n",
      "_________________________________________________________________\n"
     ]
    }
   ],
   "source": [
    "model_1.summary()"
   ]
  },
  {
   "cell_type": "code",
   "execution_count": 16,
   "metadata": {},
   "outputs": [
    {
     "name": "stdout",
     "output_type": "stream",
     "text": [
      "Epoch 1/50\n",
      "680/680 [==============================] - 6s 7ms/step - loss: 0.7175 - accuracy: 0.4665 - val_loss: 0.7125 - val_accuracy: 0.4947\n",
      "Epoch 2/50\n",
      "680/680 [==============================] - 4s 6ms/step - loss: 0.7051 - accuracy: 0.5121 - val_loss: 0.7011 - val_accuracy: 0.5272\n",
      "Epoch 3/50\n",
      "680/680 [==============================] - 4s 5ms/step - loss: 0.6952 - accuracy: 0.5343 - val_loss: 0.6919 - val_accuracy: 0.5441\n",
      "Epoch 4/50\n",
      "680/680 [==============================] - 4s 5ms/step - loss: 0.6872 - accuracy: 0.5497 - val_loss: 0.6843 - val_accuracy: 0.5602\n",
      "Epoch 5/50\n",
      "680/680 [==============================] - 4s 6ms/step - loss: 0.6804 - accuracy: 0.5631 - val_loss: 0.6778 - val_accuracy: 0.5754\n",
      "Epoch 6/50\n",
      "680/680 [==============================] - 4s 6ms/step - loss: 0.6745 - accuracy: 0.5779 - val_loss: 0.6721 - val_accuracy: 0.5884\n",
      "Epoch 7/50\n",
      "680/680 [==============================] - 4s 6ms/step - loss: 0.6694 - accuracy: 0.5863 - val_loss: 0.6670 - val_accuracy: 0.5964\n",
      "Epoch 8/50\n",
      "680/680 [==============================] - 4s 6ms/step - loss: 0.6649 - accuracy: 0.5920 - val_loss: 0.6625 - val_accuracy: 0.6046\n",
      "Epoch 9/50\n",
      "680/680 [==============================] - 4s 6ms/step - loss: 0.6607 - accuracy: 0.5987 - val_loss: 0.6584 - val_accuracy: 0.6089\n",
      "Epoch 10/50\n",
      "680/680 [==============================] - 4s 6ms/step - loss: 0.6570 - accuracy: 0.6038 - val_loss: 0.6547 - val_accuracy: 0.6122\n",
      "Epoch 11/50\n",
      "680/680 [==============================] - 4s 6ms/step - loss: 0.6536 - accuracy: 0.6061 - val_loss: 0.6513 - val_accuracy: 0.6117\n",
      "Epoch 12/50\n",
      "680/680 [==============================] - 4s 6ms/step - loss: 0.6505 - accuracy: 0.6095 - val_loss: 0.6481 - val_accuracy: 0.6106\n",
      "Epoch 13/50\n",
      "680/680 [==============================] - 4s 5ms/step - loss: 0.6476 - accuracy: 0.6111 - val_loss: 0.6451 - val_accuracy: 0.6165\n",
      "Epoch 14/50\n",
      "680/680 [==============================] - 4s 6ms/step - loss: 0.6449 - accuracy: 0.6153 - val_loss: 0.6423 - val_accuracy: 0.6199\n",
      "Epoch 15/50\n",
      "680/680 [==============================] - 4s 6ms/step - loss: 0.6423 - accuracy: 0.6172 - val_loss: 0.6397 - val_accuracy: 0.6194\n",
      "Epoch 16/50\n",
      "680/680 [==============================] - 4s 6ms/step - loss: 0.6400 - accuracy: 0.6172 - val_loss: 0.6372 - val_accuracy: 0.6186\n",
      "Epoch 17/50\n",
      "680/680 [==============================] - 4s 5ms/step - loss: 0.6377 - accuracy: 0.6183 - val_loss: 0.6348 - val_accuracy: 0.6227\n",
      "Epoch 18/50\n",
      "680/680 [==============================] - 4s 5ms/step - loss: 0.6356 - accuracy: 0.6207 - val_loss: 0.6326 - val_accuracy: 0.6255\n",
      "Epoch 19/50\n",
      "680/680 [==============================] - 4s 6ms/step - loss: 0.6336 - accuracy: 0.6211 - val_loss: 0.6305 - val_accuracy: 0.6271\n",
      "Epoch 20/50\n",
      "680/680 [==============================] - 4s 5ms/step - loss: 0.6318 - accuracy: 0.6211 - val_loss: 0.6286 - val_accuracy: 0.6270\n",
      "Epoch 21/50\n",
      "680/680 [==============================] - 4s 5ms/step - loss: 0.6301 - accuracy: 0.6225 - val_loss: 0.6267 - val_accuracy: 0.6238\n",
      "Epoch 22/50\n",
      "680/680 [==============================] - 4s 5ms/step - loss: 0.6285 - accuracy: 0.6234 - val_loss: 0.6250 - val_accuracy: 0.6284\n",
      "Epoch 23/50\n",
      "680/680 [==============================] - 4s 6ms/step - loss: 0.6270 - accuracy: 0.6261 - val_loss: 0.6235 - val_accuracy: 0.6318\n",
      "Epoch 24/50\n",
      "680/680 [==============================] - 4s 5ms/step - loss: 0.6256 - accuracy: 0.6294 - val_loss: 0.6220 - val_accuracy: 0.6319\n",
      "Epoch 25/50\n",
      "680/680 [==============================] - 4s 5ms/step - loss: 0.6244 - accuracy: 0.6316 - val_loss: 0.6206 - val_accuracy: 0.6382\n",
      "Epoch 26/50\n",
      "680/680 [==============================] - 4s 6ms/step - loss: 0.6232 - accuracy: 0.6355 - val_loss: 0.6194 - val_accuracy: 0.6390\n",
      "Epoch 27/50\n",
      "680/680 [==============================] - 4s 6ms/step - loss: 0.6221 - accuracy: 0.6350 - val_loss: 0.6182 - val_accuracy: 0.6384\n",
      "Epoch 28/50\n",
      "680/680 [==============================] - 4s 6ms/step - loss: 0.6212 - accuracy: 0.6353 - val_loss: 0.6172 - val_accuracy: 0.6377\n",
      "Epoch 29/50\n",
      "680/680 [==============================] - 4s 5ms/step - loss: 0.6203 - accuracy: 0.6348 - val_loss: 0.6162 - val_accuracy: 0.6368\n",
      "Epoch 30/50\n",
      "680/680 [==============================] - 4s 5ms/step - loss: 0.6195 - accuracy: 0.6348 - val_loss: 0.6153 - val_accuracy: 0.6368\n",
      "Epoch 31/50\n",
      "680/680 [==============================] - 4s 5ms/step - loss: 0.6187 - accuracy: 0.6348 - val_loss: 0.6144 - val_accuracy: 0.6388\n",
      "Epoch 32/50\n",
      "680/680 [==============================] - 4s 5ms/step - loss: 0.6180 - accuracy: 0.6345 - val_loss: 0.6137 - val_accuracy: 0.6393\n",
      "Epoch 33/50\n",
      "680/680 [==============================] - 4s 6ms/step - loss: 0.6173 - accuracy: 0.6338 - val_loss: 0.6129 - val_accuracy: 0.6408\n",
      "Epoch 34/50\n",
      "680/680 [==============================] - 4s 5ms/step - loss: 0.6167 - accuracy: 0.6349 - val_loss: 0.6123 - val_accuracy: 0.6419\n",
      "Epoch 35/50\n",
      "680/680 [==============================] - 4s 5ms/step - loss: 0.6162 - accuracy: 0.6357 - val_loss: 0.6116 - val_accuracy: 0.6434\n",
      "Epoch 36/50\n",
      "680/680 [==============================] - 4s 6ms/step - loss: 0.6156 - accuracy: 0.6364 - val_loss: 0.6110 - val_accuracy: 0.6434\n",
      "Epoch 37/50\n",
      "680/680 [==============================] - 4s 6ms/step - loss: 0.6151 - accuracy: 0.6358 - val_loss: 0.6105 - val_accuracy: 0.6438\n",
      "Epoch 38/50\n",
      "680/680 [==============================] - 4s 6ms/step - loss: 0.6146 - accuracy: 0.6363 - val_loss: 0.6099 - val_accuracy: 0.6434\n",
      "Epoch 39/50\n",
      "680/680 [==============================] - 4s 6ms/step - loss: 0.6142 - accuracy: 0.6359 - val_loss: 0.6094 - val_accuracy: 0.6442\n",
      "Epoch 40/50\n",
      "680/680 [==============================] - 4s 6ms/step - loss: 0.6137 - accuracy: 0.6367 - val_loss: 0.6089 - val_accuracy: 0.6462\n",
      "Epoch 41/50\n",
      "680/680 [==============================] - 4s 5ms/step - loss: 0.6133 - accuracy: 0.6366 - val_loss: 0.6085 - val_accuracy: 0.6460\n",
      "Epoch 42/50\n",
      "680/680 [==============================] - 4s 6ms/step - loss: 0.6129 - accuracy: 0.6373 - val_loss: 0.6080 - val_accuracy: 0.6463\n",
      "Epoch 43/50\n",
      "680/680 [==============================] - 5s 7ms/step - loss: 0.6125 - accuracy: 0.6377 - val_loss: 0.6076 - val_accuracy: 0.6451\n",
      "Epoch 44/50\n",
      "680/680 [==============================] - 4s 5ms/step - loss: 0.6121 - accuracy: 0.6376 - val_loss: 0.6072 - val_accuracy: 0.6460\n",
      "Epoch 45/50\n",
      "680/680 [==============================] - 4s 5ms/step - loss: 0.6118 - accuracy: 0.6388 - val_loss: 0.6068 - val_accuracy: 0.6464\n",
      "Epoch 46/50\n",
      "680/680 [==============================] - 4s 5ms/step - loss: 0.6114 - accuracy: 0.6390 - val_loss: 0.6064 - val_accuracy: 0.6474\n",
      "Epoch 47/50\n",
      "680/680 [==============================] - 4s 5ms/step - loss: 0.6110 - accuracy: 0.6398 - val_loss: 0.6060 - val_accuracy: 0.6471\n",
      "Epoch 48/50\n",
      "680/680 [==============================] - 4s 5ms/step - loss: 0.6107 - accuracy: 0.6395 - val_loss: 0.6057 - val_accuracy: 0.6471\n",
      "Epoch 49/50\n",
      "680/680 [==============================] - 4s 6ms/step - loss: 0.6104 - accuracy: 0.6392 - val_loss: 0.6053 - val_accuracy: 0.6463\n",
      "Epoch 50/50\n",
      "680/680 [==============================] - 4s 5ms/step - loss: 0.6101 - accuracy: 0.6403 - val_loss: 0.6050 - val_accuracy: 0.6468\n"
     ]
    }
   ],
   "source": [
    "# Fit(Train) the Model\n",
    "# Compile the model with Optimizer, Loss Function and Metrics\n",
    "\n",
    "model_1.compile(SGD(lr = .003), \"binary_crossentropy\", metrics=[\"accuracy\"])\n",
    "run_hist_1 = model_1.fit(X_train_norm, y_train, validation_data=(X_test_norm, y_test), epochs=50)"
   ]
  },
  {
   "cell_type": "code",
   "execution_count": 17,
   "metadata": {},
   "outputs": [
    {
     "name": "stdout",
     "output_type": "stream",
     "text": [
      "227/227 [==============================] - 1s 3ms/step\n",
      "   probabilistic score  decision\n",
      "0             0.480771         0\n",
      "1             0.739645         1\n",
      "2             0.480771         0\n",
      "3             0.708383         1\n",
      "4             0.425041         0\n",
      "5             0.695508         1\n",
      "6             0.654436         1\n",
      "7             0.629737         1\n",
      "8             0.648685         1\n",
      "9             0.618781         1\n"
     ]
    }
   ],
   "source": [
    "## Like I did for the Random Forest, I generate two kinds of predictions\n",
    "#  One is a hard decision, the other is a probabilitistic score.\n",
    "\n",
    "y_pred_prob_nn_1 = model_1.predict(X_test_norm)\n",
    "y_pred_class_nn_1 = [round(i[0]) for i in y_pred_prob_nn_1]\n",
    "\n",
    "result_pred_and_score = pd.DataFrame(data={\n",
    "    'probabilistic score': [i[0] for i in y_pred_prob_nn_1],\n",
    "    'decision': y_pred_class_nn_1})\n",
    "print(result_pred_and_score.head(10))"
   ]
  },
  {
   "cell_type": "code",
   "execution_count": 18,
   "metadata": {},
   "outputs": [
    {
     "name": "stdout",
     "output_type": "stream",
     "text": [
      "accuracy is 0.647\n",
      "roc-auc is 0.716\n"
     ]
    },
    {
     "data": {
      "image/png": "[encoded data removed]",
      "text/plain": [
       "<Figure size 576x576 with 1 Axes>"
      ]
     },
     "metadata": {
      "needs_background": "light"
     },
     "output_type": "display_data"
    }
   ],
   "source": [
    "# Print model performance and plot the roc curve\n",
    "print('accuracy is {:.3f}'.format(accuracy_score(y_test,y_pred_class_nn_1)))\n",
    "print('roc-auc is {:.3f}'.format(roc_auc_score(y_test,y_pred_prob_nn_1)))\n",
    "\n",
    "plot_roc(y_test, y_pred_prob_nn_1, 'NN')"
   ]
  },
  {
   "cell_type": "markdown",
   "metadata": {},
   "source": [
    "This model has a lower accuracy then randome forest.\n",
    "\n",
    "Let's plot the training loss and the validation loss over the different epochs and see how it looks."
   ]
  },
  {
   "cell_type": "code",
   "execution_count": 19,
   "metadata": {},
   "outputs": [
    {
     "data": {
      "text/plain": [
       "<matplotlib.legend.Legend at 0x7f9b145e9f10>"
      ]
     },
     "execution_count": 19,
     "metadata": {},
     "output_type": "execute_result"
    },
    {
     "data": {
      "image/png": "[encoded data removed]",
      "text/plain": [
       "<Figure size 432x288 with 1 Axes>"
      ]
     },
     "metadata": {
      "needs_background": "light"
     },
     "output_type": "display_data"
    }
   ],
   "source": [
    "fig, ax = plt.subplots()\n",
    "ax.plot(run_hist_1.history[\"loss\"],'r', marker='.', label=\"Train Loss\")\n",
    "ax.plot(run_hist_1.history[\"val_loss\"],'b', marker='.', label=\"Validation Loss\")\n",
    "#ax.plot(run_hist_1.history[\"accuracy\"],'y', marker='.', label=\"Accuracy\")\n",
    "ax.legend()"
   ]
  },
  {
   "cell_type": "markdown",
   "metadata": {},
   "source": [
    "Looks like the losses are still going down on both the training set and the validation set but with a slight flattening of the curve. Train the model with more epochs will not lead to significant increase in prediction accuracy. I'll move on to the next model."
   ]
  },
  {
   "cell_type": "markdown",
   "metadata": {
    "tags": []
   },
   "source": [
    "### Model 2 - one hidden layer with relu activation function"
   ]
  },
  {
   "cell_type": "code",
   "execution_count": 20,
   "metadata": {},
   "outputs": [
    {
     "name": "stdout",
     "output_type": "stream",
     "text": [
      "Model: \"sequential_1\"\n",
      "_________________________________________________________________\n",
      " Layer (type)                Output Shape              Param #   \n",
      "=================================================================\n",
      " dense_2 (Dense)             (None, 15)                165       \n",
      "                                                                 \n",
      " dense_3 (Dense)             (None, 1)                 16        \n",
      "                                                                 \n",
      "=================================================================\n",
      "Total params: 181\n",
      "Trainable params: 181\n",
      "Non-trainable params: 0\n",
      "_________________________________________________________________\n"
     ]
    }
   ],
   "source": [
    "model_2.summary()"
   ]
  },
  {
   "cell_type": "code",
   "execution_count": 21,
   "metadata": {},
   "outputs": [
    {
     "name": "stdout",
     "output_type": "stream",
     "text": [
      "Epoch 1/50\n",
      "680/680 [==============================] - 5s 6ms/step - loss: 0.6539 - accuracy: 0.6014 - val_loss: 0.6139 - val_accuracy: 0.6326\n",
      "Epoch 2/50\n",
      "680/680 [==============================] - 4s 5ms/step - loss: 0.6110 - accuracy: 0.6352 - val_loss: 0.6016 - val_accuracy: 0.6486\n",
      "Epoch 3/50\n",
      "680/680 [==============================] - 4s 6ms/step - loss: 0.6045 - accuracy: 0.6416 - val_loss: 0.5977 - val_accuracy: 0.6544\n",
      "Epoch 4/50\n",
      "680/680 [==============================] - 4s 5ms/step - loss: 0.6021 - accuracy: 0.6470 - val_loss: 0.5964 - val_accuracy: 0.6467\n",
      "Epoch 5/50\n",
      "680/680 [==============================] - 4s 5ms/step - loss: 0.6007 - accuracy: 0.6489 - val_loss: 0.5947 - val_accuracy: 0.6521\n",
      "Epoch 6/50\n",
      "680/680 [==============================] - 4s 5ms/step - loss: 0.5996 - accuracy: 0.6508 - val_loss: 0.5940 - val_accuracy: 0.6553\n",
      "Epoch 7/50\n",
      "680/680 [==============================] - 4s 5ms/step - loss: 0.5989 - accuracy: 0.6523 - val_loss: 0.5930 - val_accuracy: 0.6558\n",
      "Epoch 8/50\n",
      "680/680 [==============================] - 4s 6ms/step - loss: 0.5982 - accuracy: 0.6532 - val_loss: 0.5929 - val_accuracy: 0.6548\n",
      "Epoch 9/50\n",
      "680/680 [==============================] - 4s 6ms/step - loss: 0.5975 - accuracy: 0.6525 - val_loss: 0.5919 - val_accuracy: 0.6543\n",
      "Epoch 10/50\n",
      "680/680 [==============================] - 4s 6ms/step - loss: 0.5971 - accuracy: 0.6527 - val_loss: 0.5917 - val_accuracy: 0.6560\n",
      "Epoch 11/50\n",
      "680/680 [==============================] - 4s 6ms/step - loss: 0.5966 - accuracy: 0.6541 - val_loss: 0.5910 - val_accuracy: 0.6555\n",
      "Epoch 12/50\n",
      "680/680 [==============================] - 4s 5ms/step - loss: 0.5962 - accuracy: 0.6540 - val_loss: 0.5905 - val_accuracy: 0.6571\n",
      "Epoch 13/50\n",
      "680/680 [==============================] - 4s 5ms/step - loss: 0.5958 - accuracy: 0.6540 - val_loss: 0.5902 - val_accuracy: 0.6586\n",
      "Epoch 14/50\n",
      "680/680 [==============================] - 4s 6ms/step - loss: 0.5955 - accuracy: 0.6549 - val_loss: 0.5900 - val_accuracy: 0.6600\n",
      "Epoch 15/50\n",
      "680/680 [==============================] - 4s 5ms/step - loss: 0.5951 - accuracy: 0.6541 - val_loss: 0.5895 - val_accuracy: 0.6594\n",
      "Epoch 16/50\n",
      "680/680 [==============================] - 4s 5ms/step - loss: 0.5948 - accuracy: 0.6550 - val_loss: 0.5893 - val_accuracy: 0.6531\n",
      "Epoch 17/50\n",
      "680/680 [==============================] - 4s 5ms/step - loss: 0.5945 - accuracy: 0.6546 - val_loss: 0.5885 - val_accuracy: 0.6569\n",
      "Epoch 18/50\n",
      "680/680 [==============================] - 4s 5ms/step - loss: 0.5942 - accuracy: 0.6531 - val_loss: 0.5889 - val_accuracy: 0.6565\n",
      "Epoch 19/50\n",
      "680/680 [==============================] - 4s 6ms/step - loss: 0.5940 - accuracy: 0.6542 - val_loss: 0.5880 - val_accuracy: 0.6593\n",
      "Epoch 20/50\n",
      "680/680 [==============================] - 4s 5ms/step - loss: 0.5936 - accuracy: 0.6562 - val_loss: 0.5881 - val_accuracy: 0.6499\n",
      "Epoch 21/50\n",
      "680/680 [==============================] - 4s 5ms/step - loss: 0.5933 - accuracy: 0.6539 - val_loss: 0.5875 - val_accuracy: 0.6613\n",
      "Epoch 22/50\n",
      "680/680 [==============================] - 4s 6ms/step - loss: 0.5931 - accuracy: 0.6564 - val_loss: 0.5867 - val_accuracy: 0.6606\n",
      "Epoch 23/50\n",
      "680/680 [==============================] - 4s 6ms/step - loss: 0.5927 - accuracy: 0.6572 - val_loss: 0.5867 - val_accuracy: 0.6536\n",
      "Epoch 24/50\n",
      "680/680 [==============================] - 4s 6ms/step - loss: 0.5925 - accuracy: 0.6566 - val_loss: 0.5862 - val_accuracy: 0.6631\n",
      "Epoch 25/50\n",
      "680/680 [==============================] - 4s 6ms/step - loss: 0.5924 - accuracy: 0.6596 - val_loss: 0.5860 - val_accuracy: 0.6627\n",
      "Epoch 26/50\n",
      "680/680 [==============================] - 4s 5ms/step - loss: 0.5921 - accuracy: 0.6582 - val_loss: 0.5857 - val_accuracy: 0.6602\n",
      "Epoch 27/50\n",
      "680/680 [==============================] - 4s 5ms/step - loss: 0.5917 - accuracy: 0.6603 - val_loss: 0.5864 - val_accuracy: 0.6550\n",
      "Epoch 28/50\n",
      "680/680 [==============================] - 4s 5ms/step - loss: 0.5916 - accuracy: 0.6591 - val_loss: 0.5853 - val_accuracy: 0.6580\n",
      "Epoch 29/50\n",
      "680/680 [==============================] - 4s 5ms/step - loss: 0.5914 - accuracy: 0.6597 - val_loss: 0.5849 - val_accuracy: 0.6641\n",
      "Epoch 30/50\n",
      "680/680 [==============================] - 4s 6ms/step - loss: 0.5910 - accuracy: 0.6598 - val_loss: 0.5847 - val_accuracy: 0.6640\n",
      "Epoch 31/50\n",
      "680/680 [==============================] - 4s 5ms/step - loss: 0.5910 - accuracy: 0.6597 - val_loss: 0.5848 - val_accuracy: 0.6634\n",
      "Epoch 32/50\n",
      "680/680 [==============================] - 4s 5ms/step - loss: 0.5906 - accuracy: 0.6598 - val_loss: 0.5843 - val_accuracy: 0.6609\n",
      "Epoch 33/50\n",
      "680/680 [==============================] - 4s 5ms/step - loss: 0.5905 - accuracy: 0.6601 - val_loss: 0.5845 - val_accuracy: 0.6609\n",
      "Epoch 34/50\n",
      "680/680 [==============================] - 4s 5ms/step - loss: 0.5903 - accuracy: 0.6606 - val_loss: 0.5840 - val_accuracy: 0.6635\n",
      "Epoch 35/50\n",
      "680/680 [==============================] - 4s 6ms/step - loss: 0.5901 - accuracy: 0.6608 - val_loss: 0.5834 - val_accuracy: 0.6616\n",
      "Epoch 36/50\n",
      "680/680 [==============================] - 4s 5ms/step - loss: 0.5899 - accuracy: 0.6603 - val_loss: 0.5834 - val_accuracy: 0.6645\n",
      "Epoch 37/50\n",
      "680/680 [==============================] - 4s 5ms/step - loss: 0.5898 - accuracy: 0.6615 - val_loss: 0.5832 - val_accuracy: 0.6651\n",
      "Epoch 38/50\n",
      "680/680 [==============================] - 4s 5ms/step - loss: 0.5896 - accuracy: 0.6602 - val_loss: 0.5829 - val_accuracy: 0.6670\n",
      "Epoch 39/50\n",
      "680/680 [==============================] - 4s 5ms/step - loss: 0.5894 - accuracy: 0.6632 - val_loss: 0.5824 - val_accuracy: 0.6657\n",
      "Epoch 40/50\n",
      "680/680 [==============================] - 4s 6ms/step - loss: 0.5892 - accuracy: 0.6613 - val_loss: 0.5825 - val_accuracy: 0.6642\n",
      "Epoch 41/50\n",
      "680/680 [==============================] - 4s 6ms/step - loss: 0.5891 - accuracy: 0.6634 - val_loss: 0.5827 - val_accuracy: 0.6664\n",
      "Epoch 42/50\n",
      "680/680 [==============================] - 4s 6ms/step - loss: 0.5889 - accuracy: 0.6632 - val_loss: 0.5821 - val_accuracy: 0.6651\n",
      "Epoch 43/50\n",
      "680/680 [==============================] - 4s 6ms/step - loss: 0.5889 - accuracy: 0.6632 - val_loss: 0.5824 - val_accuracy: 0.6659\n",
      "Epoch 44/50\n",
      "680/680 [==============================] - 4s 5ms/step - loss: 0.5886 - accuracy: 0.6629 - val_loss: 0.5820 - val_accuracy: 0.6685\n",
      "Epoch 45/50\n",
      "680/680 [==============================] - 4s 5ms/step - loss: 0.5884 - accuracy: 0.6620 - val_loss: 0.5820 - val_accuracy: 0.6641\n",
      "Epoch 46/50\n",
      "680/680 [==============================] - 4s 5ms/step - loss: 0.5881 - accuracy: 0.6644 - val_loss: 0.5826 - val_accuracy: 0.6633\n",
      "Epoch 47/50\n",
      "680/680 [==============================] - 4s 5ms/step - loss: 0.5879 - accuracy: 0.6651 - val_loss: 0.5816 - val_accuracy: 0.6688\n",
      "Epoch 48/50\n",
      "680/680 [==============================] - 4s 6ms/step - loss: 0.5877 - accuracy: 0.6633 - val_loss: 0.5812 - val_accuracy: 0.6729\n",
      "Epoch 49/50\n",
      "680/680 [==============================] - 4s 6ms/step - loss: 0.5877 - accuracy: 0.6668 - val_loss: 0.5812 - val_accuracy: 0.6709\n",
      "Epoch 50/50\n",
      "680/680 [==============================] - 4s 6ms/step - loss: 0.5873 - accuracy: 0.6676 - val_loss: 0.5817 - val_accuracy: 0.6644\n"
     ]
    }
   ],
   "source": [
    "# Fit(Train) the Model\n",
    "# Compile the model with Optimizer, Loss Function and Metrics\n",
    "\n",
    "model_2.compile(SGD(lr = .01), \"binary_crossentropy\", metrics=[\"accuracy\"])\n",
    "run_hist_2 = model_2.fit(X_train_norm, y_train, validation_data=(X_test_norm, y_test), epochs=50)"
   ]
  },
  {
   "cell_type": "code",
   "execution_count": 22,
   "metadata": {},
   "outputs": [
    {
     "name": "stdout",
     "output_type": "stream",
     "text": [
      "227/227 [==============================] - 1s 3ms/step\n",
      "   probabilistic score  decision\n",
      "0             0.495783         0\n",
      "1             0.684015         1\n",
      "2             0.495783         0\n",
      "3             0.729813         1\n",
      "4             0.573764         1\n",
      "5             0.623636         1\n",
      "6             0.597228         1\n",
      "7             0.579130         1\n",
      "8             0.591977         1\n",
      "9             0.592757         1\n"
     ]
    }
   ],
   "source": [
    "## Like I did for the Random Forest, I generate two kinds of predictions\n",
    "#  One is a hard decision, the other is a probabilitistic score.\n",
    "\n",
    "y_pred_prob_nn_2 = model_2.predict(X_test_norm)\n",
    "y_pred_class_nn_2 = [round(i[0]) for i in y_pred_prob_nn_2]\n",
    "\n",
    "result_pred_and_score = pd.DataFrame(data={\n",
    "    'probabilistic score': [i[0] for i in y_pred_prob_nn_2],\n",
    "    'decision': y_pred_class_nn_2})\n",
    "print(result_pred_and_score.head(10))"
   ]
  },
  {
   "cell_type": "code",
   "execution_count": 23,
   "metadata": {},
   "outputs": [
    {
     "name": "stdout",
     "output_type": "stream",
     "text": [
      "accuracy is 0.664\n",
      "roc-auc is 0.743\n"
     ]
    },
    {
     "data": {
      "image/png": "[encoded data removed]",
      "text/plain": [
       "<Figure size 576x576 with 1 Axes>"
      ]
     },
     "metadata": {
      "needs_background": "light"
     },
     "output_type": "display_data"
    }
   ],
   "source": [
    "# Print model performance and plot the roc curve\n",
    "print('accuracy is {:.3f}'.format(accuracy_score(y_test,y_pred_class_nn_2)))\n",
    "print('roc-auc is {:.3f}'.format(roc_auc_score(y_test,y_pred_prob_nn_2)))\n",
    "\n",
    "plot_roc(y_test, y_pred_prob_nn_2, 'NN')"
   ]
  },
  {
   "cell_type": "code",
   "execution_count": 24,
   "metadata": {},
   "outputs": [
    {
     "data": {
      "text/plain": [
       "<matplotlib.legend.Legend at 0x7f9b08d23dc0>"
      ]
     },
     "execution_count": 24,
     "metadata": {},
     "output_type": "execute_result"
    },
    {
     "data": {
      "image/png": "[encoded data removed]",
      "text/plain": [
       "<Figure size 432x288 with 1 Axes>"
      ]
     },
     "metadata": {
      "needs_background": "light"
     },
     "output_type": "display_data"
    }
   ],
   "source": [
    "# plot the training loss and the validation loss over the different epochs.\n",
    "fig, ax = plt.subplots()\n",
    "ax.plot(run_hist_2.history[\"loss\"],'r', marker='.', label=\"Train Loss\")\n",
    "ax.plot(run_hist_2.history[\"val_loss\"],'b', marker='.', label=\"Validation Loss\")\n",
    "ax.legend()"
   ]
  },
  {
   "cell_type": "markdown",
   "metadata": {},
   "source": [
    "### Model 3 - two hidden layers (first with relu and second with sigmoid activation functions)"
   ]
  },
  {
   "cell_type": "code",
   "execution_count": 25,
   "metadata": {},
   "outputs": [
    {
     "name": "stdout",
     "output_type": "stream",
     "text": [
      "Model: \"sequential_2\"\n",
      "_________________________________________________________________\n",
      " Layer (type)                Output Shape              Param #   \n",
      "=================================================================\n",
      " dense_4 (Dense)             (None, 10)                110       \n",
      "                                                                 \n",
      " dense_5 (Dense)             (None, 10)                110       \n",
      "                                                                 \n",
      " dense_6 (Dense)             (None, 1)                 11        \n",
      "                                                                 \n",
      "=================================================================\n",
      "Total params: 231\n",
      "Trainable params: 231\n",
      "Non-trainable params: 0\n",
      "_________________________________________________________________\n"
     ]
    }
   ],
   "source": [
    "model_3.summary()"
   ]
  },
  {
   "cell_type": "code",
   "execution_count": 26,
   "metadata": {},
   "outputs": [
    {
     "name": "stdout",
     "output_type": "stream",
     "text": [
      "Epoch 1/50\n",
      "680/680 [==============================] - 5s 6ms/step - loss: 0.7008 - accuracy: 0.5388 - val_loss: 0.6970 - val_accuracy: 0.5541\n",
      "Epoch 2/50\n",
      "680/680 [==============================] - 4s 6ms/step - loss: 0.6914 - accuracy: 0.5649 - val_loss: 0.6882 - val_accuracy: 0.5641\n",
      "Epoch 3/50\n",
      "680/680 [==============================] - 4s 6ms/step - loss: 0.6840 - accuracy: 0.5713 - val_loss: 0.6814 - val_accuracy: 0.5733\n",
      "Epoch 4/50\n",
      "680/680 [==============================] - 4s 6ms/step - loss: 0.6785 - accuracy: 0.5873 - val_loss: 0.6763 - val_accuracy: 0.5929\n",
      "Epoch 5/50\n",
      "680/680 [==============================] - 4s 6ms/step - loss: 0.6736 - accuracy: 0.5990 - val_loss: 0.6710 - val_accuracy: 0.6035\n",
      "Epoch 6/50\n",
      "680/680 [==============================] - 4s 6ms/step - loss: 0.6686 - accuracy: 0.6126 - val_loss: 0.6656 - val_accuracy: 0.6169\n",
      "Epoch 7/50\n",
      "680/680 [==============================] - 4s 6ms/step - loss: 0.6636 - accuracy: 0.6189 - val_loss: 0.6604 - val_accuracy: 0.6182\n",
      "Epoch 8/50\n",
      "680/680 [==============================] - 4s 6ms/step - loss: 0.6588 - accuracy: 0.6233 - val_loss: 0.6553 - val_accuracy: 0.6234\n",
      "Epoch 9/50\n",
      "680/680 [==============================] - 4s 6ms/step - loss: 0.6542 - accuracy: 0.6268 - val_loss: 0.6505 - val_accuracy: 0.6293\n",
      "Epoch 10/50\n",
      "680/680 [==============================] - 4s 6ms/step - loss: 0.6497 - accuracy: 0.6291 - val_loss: 0.6457 - val_accuracy: 0.6273\n",
      "Epoch 11/50\n",
      "680/680 [==============================] - 4s 6ms/step - loss: 0.6454 - accuracy: 0.6307 - val_loss: 0.6413 - val_accuracy: 0.6300\n",
      "Epoch 12/50\n",
      "680/680 [==============================] - 4s 6ms/step - loss: 0.6414 - accuracy: 0.6292 - val_loss: 0.6370 - val_accuracy: 0.6295\n",
      "Epoch 13/50\n",
      "680/680 [==============================] - 4s 6ms/step - loss: 0.6376 - accuracy: 0.6281 - val_loss: 0.6328 - val_accuracy: 0.6321\n",
      "Epoch 14/50\n",
      "680/680 [==============================] - 4s 6ms/step - loss: 0.6339 - accuracy: 0.6269 - val_loss: 0.6288 - val_accuracy: 0.6324\n",
      "Epoch 15/50\n",
      "680/680 [==============================] - 4s 6ms/step - loss: 0.6303 - accuracy: 0.6282 - val_loss: 0.6249 - val_accuracy: 0.6333\n",
      "Epoch 16/50\n",
      "680/680 [==============================] - 4s 6ms/step - loss: 0.6268 - accuracy: 0.6302 - val_loss: 0.6212 - val_accuracy: 0.6299\n",
      "Epoch 17/50\n",
      "680/680 [==============================] - 4s 6ms/step - loss: 0.6236 - accuracy: 0.6300 - val_loss: 0.6178 - val_accuracy: 0.6358\n",
      "Epoch 18/50\n",
      "680/680 [==============================] - 4s 6ms/step - loss: 0.6209 - accuracy: 0.6365 - val_loss: 0.6152 - val_accuracy: 0.6442\n",
      "Epoch 19/50\n",
      "680/680 [==============================] - 5s 7ms/step - loss: 0.6187 - accuracy: 0.6399 - val_loss: 0.6128 - val_accuracy: 0.6470\n",
      "Epoch 20/50\n",
      "680/680 [==============================] - 4s 6ms/step - loss: 0.6168 - accuracy: 0.6420 - val_loss: 0.6109 - val_accuracy: 0.6462\n",
      "Epoch 21/50\n",
      "680/680 [==============================] - 4s 6ms/step - loss: 0.6152 - accuracy: 0.6430 - val_loss: 0.6093 - val_accuracy: 0.6486\n",
      "Epoch 22/50\n",
      "680/680 [==============================] - 4s 6ms/step - loss: 0.6138 - accuracy: 0.6433 - val_loss: 0.6080 - val_accuracy: 0.6514\n",
      "Epoch 23/50\n",
      "680/680 [==============================] - 4s 6ms/step - loss: 0.6126 - accuracy: 0.6457 - val_loss: 0.6070 - val_accuracy: 0.6471\n",
      "Epoch 24/50\n",
      "680/680 [==============================] - 4s 6ms/step - loss: 0.6117 - accuracy: 0.6454 - val_loss: 0.6059 - val_accuracy: 0.6480\n",
      "Epoch 25/50\n",
      "680/680 [==============================] - 4s 6ms/step - loss: 0.6108 - accuracy: 0.6457 - val_loss: 0.6050 - val_accuracy: 0.6508\n",
      "Epoch 26/50\n",
      "680/680 [==============================] - 4s 6ms/step - loss: 0.6100 - accuracy: 0.6452 - val_loss: 0.6042 - val_accuracy: 0.6593\n",
      "Epoch 27/50\n",
      "680/680 [==============================] - 5s 7ms/step - loss: 0.6092 - accuracy: 0.6466 - val_loss: 0.6036 - val_accuracy: 0.6571\n",
      "Epoch 28/50\n",
      "680/680 [==============================] - 4s 6ms/step - loss: 0.6086 - accuracy: 0.6488 - val_loss: 0.6028 - val_accuracy: 0.6571\n",
      "Epoch 29/50\n",
      "680/680 [==============================] - 4s 6ms/step - loss: 0.6079 - accuracy: 0.6497 - val_loss: 0.6022 - val_accuracy: 0.6572\n",
      "Epoch 30/50\n",
      "680/680 [==============================] - 4s 6ms/step - loss: 0.6074 - accuracy: 0.6493 - val_loss: 0.6016 - val_accuracy: 0.6587\n",
      "Epoch 31/50\n",
      "680/680 [==============================] - 4s 6ms/step - loss: 0.6068 - accuracy: 0.6500 - val_loss: 0.6011 - val_accuracy: 0.6590\n",
      "Epoch 32/50\n",
      "680/680 [==============================] - 4s 6ms/step - loss: 0.6063 - accuracy: 0.6492 - val_loss: 0.6008 - val_accuracy: 0.6558\n",
      "Epoch 33/50\n",
      "680/680 [==============================] - 4s 6ms/step - loss: 0.6058 - accuracy: 0.6494 - val_loss: 0.6002 - val_accuracy: 0.6573\n",
      "Epoch 34/50\n",
      "680/680 [==============================] - 4s 6ms/step - loss: 0.6053 - accuracy: 0.6498 - val_loss: 0.5998 - val_accuracy: 0.6595\n",
      "Epoch 35/50\n",
      "680/680 [==============================] - 4s 6ms/step - loss: 0.6049 - accuracy: 0.6499 - val_loss: 0.5994 - val_accuracy: 0.6591\n",
      "Epoch 36/50\n",
      "680/680 [==============================] - 4s 6ms/step - loss: 0.6044 - accuracy: 0.6491 - val_loss: 0.5990 - val_accuracy: 0.6582\n",
      "Epoch 37/50\n",
      "680/680 [==============================] - 4s 6ms/step - loss: 0.6040 - accuracy: 0.6498 - val_loss: 0.5986 - val_accuracy: 0.6575\n",
      "Epoch 38/50\n",
      "680/680 [==============================] - 4s 6ms/step - loss: 0.6036 - accuracy: 0.6507 - val_loss: 0.5985 - val_accuracy: 0.6576\n",
      "Epoch 39/50\n",
      "680/680 [==============================] - 4s 6ms/step - loss: 0.6033 - accuracy: 0.6486 - val_loss: 0.5980 - val_accuracy: 0.6568\n",
      "Epoch 40/50\n",
      "680/680 [==============================] - 4s 6ms/step - loss: 0.6031 - accuracy: 0.6505 - val_loss: 0.5977 - val_accuracy: 0.6582\n",
      "Epoch 41/50\n",
      "680/680 [==============================] - 4s 6ms/step - loss: 0.6027 - accuracy: 0.6516 - val_loss: 0.5974 - val_accuracy: 0.6566\n",
      "Epoch 42/50\n",
      "680/680 [==============================] - 4s 6ms/step - loss: 0.6024 - accuracy: 0.6518 - val_loss: 0.5972 - val_accuracy: 0.6583\n",
      "Epoch 43/50\n",
      "680/680 [==============================] - 4s 6ms/step - loss: 0.6022 - accuracy: 0.6515 - val_loss: 0.5970 - val_accuracy: 0.6601\n",
      "Epoch 44/50\n",
      "680/680 [==============================] - 4s 5ms/step - loss: 0.6019 - accuracy: 0.6517 - val_loss: 0.5968 - val_accuracy: 0.6576\n",
      "Epoch 45/50\n",
      "680/680 [==============================] - 4s 6ms/step - loss: 0.6017 - accuracy: 0.6519 - val_loss: 0.5966 - val_accuracy: 0.6595\n",
      "Epoch 46/50\n",
      "680/680 [==============================] - 4s 6ms/step - loss: 0.6015 - accuracy: 0.6518 - val_loss: 0.5963 - val_accuracy: 0.6580\n",
      "Epoch 47/50\n",
      "680/680 [==============================] - 4s 6ms/step - loss: 0.6013 - accuracy: 0.6521 - val_loss: 0.5961 - val_accuracy: 0.6579\n",
      "Epoch 48/50\n",
      "680/680 [==============================] - 4s 6ms/step - loss: 0.6011 - accuracy: 0.6522 - val_loss: 0.5960 - val_accuracy: 0.6582\n",
      "Epoch 49/50\n",
      "680/680 [==============================] - 4s 6ms/step - loss: 0.6009 - accuracy: 0.6530 - val_loss: 0.5958 - val_accuracy: 0.6597\n",
      "Epoch 50/50\n",
      "680/680 [==============================] - 4s 6ms/step - loss: 0.6008 - accuracy: 0.6537 - val_loss: 0.5957 - val_accuracy: 0.6597\n"
     ]
    }
   ],
   "source": [
    "# Fit(Train) the Model\n",
    "# Compile the model with Optimizer, Loss Function and Metrics\n",
    "\n",
    "model_3.compile(SGD(lr = .003), \"binary_crossentropy\", metrics=[\"accuracy\"])\n",
    "run_hist_3 = model_3.fit(X_train_norm, y_train, validation_data=(X_test_norm, y_test), epochs=50)"
   ]
  },
  {
   "cell_type": "code",
   "execution_count": 27,
   "metadata": {},
   "outputs": [
    {
     "name": "stdout",
     "output_type": "stream",
     "text": [
      "227/227 [==============================] - 1s 3ms/step\n",
      "   probabilistic score  decision\n",
      "0             0.540545         1\n",
      "1             0.721030         1\n",
      "2             0.540545         1\n",
      "3             0.718525         1\n",
      "4             0.483585         0\n",
      "5             0.664228         1\n",
      "6             0.641054         1\n",
      "7             0.596153         1\n",
      "8             0.630478         1\n",
      "9             0.582622         1\n"
     ]
    }
   ],
   "source": [
    "## Like I did for the Random Forest, I generate two kinds of predictions\n",
    "#  One is a hard decision, the other is a probabilitistic score.\n",
    "\n",
    "y_pred_prob_nn_3 = model_3.predict(X_test_norm)\n",
    "y_pred_class_nn_3 = [round(i[0]) for i in y_pred_prob_nn_3]\n",
    "\n",
    "result_pred_and_score = pd.DataFrame(data={\n",
    "    'probabilistic score': [i[0] for i in y_pred_prob_nn_3],\n",
    "    'decision': y_pred_class_nn_3})\n",
    "print(result_pred_and_score.head(10))"
   ]
  },
  {
   "cell_type": "code",
   "execution_count": 28,
   "metadata": {},
   "outputs": [
    {
     "name": "stdout",
     "output_type": "stream",
     "text": [
      "accuracy is 0.660\n",
      "roc-auc is 0.722\n"
     ]
    },
    {
     "data": {
      "image/png": "[encoded data removed]",
      "text/plain": [
       "<Figure size 576x576 with 1 Axes>"
      ]
     },
     "metadata": {
      "needs_background": "light"
     },
     "output_type": "display_data"
    }
   ],
   "source": [
    "# Print model performance and plot the roc curve\n",
    "print('accuracy is {:.3f}'.format(accuracy_score(y_test,y_pred_class_nn_3)))\n",
    "print('roc-auc is {:.3f}'.format(roc_auc_score(y_test,y_pred_prob_nn_3)))\n",
    "\n",
    "plot_roc(y_test, y_pred_prob_nn_3, 'NN')"
   ]
  },
  {
   "cell_type": "code",
   "execution_count": 29,
   "metadata": {},
   "outputs": [
    {
     "data": {
      "text/plain": [
       "<matplotlib.legend.Legend at 0x7f9b08aca7f0>"
      ]
     },
     "execution_count": 29,
     "metadata": {},
     "output_type": "execute_result"
    },
    {
     "data": {
      "image/png": "[encoded data removed]",
      "text/plain": [
       "<Figure size 432x288 with 1 Axes>"
      ]
     },
     "metadata": {
      "needs_background": "light"
     },
     "output_type": "display_data"
    }
   ],
   "source": [
    "# plot the training loss and the validation loss over the different epochs.\n",
    "fig, ax = plt.subplots()\n",
    "ax.plot(run_hist_3.history[\"loss\"],'r', marker='.', label=\"Train Loss\")\n",
    "ax.plot(run_hist_3.history[\"val_loss\"],'b', marker='.', label=\"Validation Loss\")\n",
    "ax.legend()"
   ]
  },
  {
   "cell_type": "markdown",
   "metadata": {},
   "source": [
    "### Results and conclusions"
   ]
  },
  {
   "cell_type": "markdown",
   "metadata": {},
   "source": [
    "Below a comparison of the result obtained by the three models."
   ]
  },
  {
   "cell_type": "code",
   "execution_count": 30,
   "metadata": {},
   "outputs": [
    {
     "name": "stdout",
     "output_type": "stream",
     "text": [
      "                                   model  accuracy   roc-auc\n",
      "0                          random forest  0.793213  0.880937\n",
      "1         NN model 1 (one sigmoid layer)  0.646848  0.715881\n",
      "2            NN model 2 (one relu layer)  0.664367  0.743157\n",
      "3  MM model 3 (two layers, sigmoid+relu)  0.659677  0.721868\n",
      "\n",
      "Predictions comparison for the three neural network models on the first 10 test observation.\n",
      "\n",
      "   model_1  model_2  model_3\n",
      "0        0        0        1\n",
      "1        1        1        1\n",
      "2        0        0        1\n",
      "3        1        1        1\n",
      "4        0        1        0\n",
      "5        1        1        1\n",
      "6        1        1        1\n",
      "7        1        1        1\n",
      "8        1        1        1\n",
      "9        1        1        1\n"
     ]
    }
   ],
   "source": [
    "results_accuracy =  pd.DataFrame(data={\n",
    "    'model': ['random forest',\n",
    "              'NN model 1 (one sigmoid layer)',\n",
    "              'NN model 2 (one relu layer)',\n",
    "              'MM model 3 (two layers, sigmoid+relu)'],\n",
    "    'accuracy': [accuracy_score(y_test,y_pred_class_rf),\n",
    "                 accuracy_score(y_test,y_pred_class_nn_1),\n",
    "                 accuracy_score(y_test,y_pred_class_nn_2),\n",
    "                 accuracy_score(y_test,y_pred_class_nn_3)],\n",
    "    'roc-auc': [roc_auc_score(y_test,y_pred_prob_rf[:,1]),\n",
    "                roc_auc_score(y_test,y_pred_prob_nn_1),\n",
    "                roc_auc_score(y_test,y_pred_prob_nn_2),\n",
    "                roc_auc_score(y_test,y_pred_prob_nn_3)]})\n",
    "print(results_accuracy)\n",
    "\n",
    "print('\\nPredictions comparison for the three neural network models on the first 10 test observation.\\n')\n",
    "predicted_results = pd.DataFrame(data={\n",
    "    'model_1': y_pred_class_nn_1,\n",
    "    'model_2': y_pred_class_nn_2,\n",
    "    'model_3': y_pred_class_nn_3})\n",
    "print(predicted_results.head(10))\n"
   ]
  },
  {
   "cell_type": "markdown",
   "metadata": {},
   "source": [
    "All the three neural network model have a wicker prediction accuracy the random forest model. I think the cause could be the train set not large enough to allow the use of deep learning. It's also a inbalanced problem and the over sample of data corresponding to fraud detected could has lead to some overfitting, better handled by the random forest then the neural network. \n",
    "Anyway, the three Neural network models has similar values for accuracy and roc-auc score and between them the second model seems slightely better then the others in both score parameters.\n",
    "\n"
   ]
  },
  {
   "cell_type": "markdown",
   "metadata": {},
   "source": [
    "A lot of experiment could be done to reach a better result in accuracy and roc-auc score by tuning learning rate and number of epochs. For example the second model has 0.01 as learning rate, way higher then the others two model. This lead faster to an increase in accuracy but made the neural network tuning less precise. A slower learning rate and a higher number of epochs allow for sure to a better network shaping and an increase in accuracy but it requires a lot of time and some computational resources better then my cheap laptop."
   ]
  },
  {
   "cell_type": "markdown",
   "metadata": {},
   "source": [
    "Cheers."
   ]
  },
  {
   "cell_type": "code",
   "execution_count": null,
   "metadata": {},
   "outputs": [],
   "source": []
  }
 ],
 "metadata": {
  "kernelspec": {
   "display_name": "ibm_venv",
   "language": "python",
   "name": "ibm_venv"
  },
  "language_info": {
   "codemirror_mode": {
    "name": "ipython",
    "version": 3
   },
   "file_extension": ".py",
   "mimetype": "text/x-python",
   "name": "python",
   "nbconvert_exporter": "python",
   "pygments_lexer": "ipython3",
   "version": "3.8.10"
  }
 },
 "nbformat": 4,
 "nbformat_minor": 4
}
